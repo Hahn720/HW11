{
 "cells": [
  {
   "cell_type": "code",
   "execution_count": 1,
   "metadata": {},
   "outputs": [],
   "source": [
    "import pandas as pd\n",
    "import numpy as np\n",
    "import csv"
   ]
  },
  {
   "cell_type": "code",
   "execution_count": 3,
   "metadata": {},
   "outputs": [],
   "source": [
    "stations=\"hawaii_stations.csv\"\n",
    "weather=\"hawaii_measurements.csv\"\n",
    "stations_data=pd.read_csv(stations,encoding=\"iso-8859-1\")\n",
    "weather_data=pd.read_csv(weather,encoding=\"iso-8859-1\")\n",
    "stations_df=pd.DataFrame(stations_data)\n",
    "weather_df=pd.DataFrame(weather_data)"
   ]
  },
  {
   "cell_type": "code",
   "execution_count": 9,
   "metadata": {},
   "outputs": [],
   "source": [
    "nan_eval=weather_df\n",
    "nan_eval=pd.pivot_table(nan_eval,index=['station'], values=['prcp','tobs'])"
   ]
  },
  {
   "cell_type": "code",
   "execution_count": 10,
   "metadata": {},
   "outputs": [],
   "source": [
    "test=weather_df\n",
    "test['NaN Count']=test['prcp'].isnull()\n",
    "test['Count']=1\n",
    "test=pd.pivot_table(test,index=[\"station\"], values=['Count','NaN Count'],aggfunc=np.sum)\n",
    "test['percentage']=test['NaN Count']/test['Count']*100"
   ]
  },
  {
   "cell_type": "code",
   "execution_count": 11,
   "metadata": {},
   "outputs": [],
   "source": [
    "stat_test1=stations_df['station']\n",
    "stat_test2=weather_df['station'].unique()\n",
    "clean= (stat_test1==stat_test2)"
   ]
  },
  {
   "cell_type": "code",
   "execution_count": 12,
   "metadata": {},
   "outputs": [],
   "source": [
    "clean_stations_df=pd.DataFrame(stations_data)\n",
    "clean_weather_df=pd.DataFrame(weather_data)\n",
    "clean_weather_df.drop('NaN Count', axis=1, inplace=True)\n",
    "clean_weather_df.drop('Count', axis=1, inplace=True)\n",
    "clean_weather_df = clean_weather_df.fillna(0)\n",
    "clean_weather_df.to_csv(\"clean_hawaii_measurements.csv\", index = False)\n",
    "clean_stations_df.to_csv(\"clean_hawaii_stations.csv\", index = False)"
   ]
  },
  {
   "cell_type": "code",
   "execution_count": null,
   "metadata": {},
   "outputs": [],
   "source": []
  }
 ],
 "metadata": {
  "kernelspec": {
   "display_name": "Python 3",
   "language": "python",
   "name": "python3"
  },
  "language_info": {
   "codemirror_mode": {
    "name": "ipython",
    "version": 3
   },
   "file_extension": ".py",
   "mimetype": "text/x-python",
   "name": "python",
   "nbconvert_exporter": "python",
   "pygments_lexer": "ipython3",
   "version": "3.6.4"
  }
 },
 "nbformat": 4,
 "nbformat_minor": 2
}
